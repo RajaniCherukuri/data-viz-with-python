{
 "cells": [
  {
   "cell_type": "markdown",
   "id": "fdf2a936",
   "metadata": {},
   "source": [
    "# Data Visualization with Python Studio\n",
    "\n",
    "At this point, you should already have connected with the rest of your group to divide up who is going to do what. Use this notebook to create your visualizations.\n",
    "\n",
    "Below we set up the dataframe with the Goodreads dataset for you. If you run this cell, you may get an error that some lines were skipped. Do not worry about that! For this studio, we want to focus on creating an effective"
   ]
  },
  {
   "cell_type": "code",
   "execution_count": null,
   "id": "577e3a46",
   "metadata": {},
   "outputs": [],
   "source": [
    "# Here is the setup of the dataframe. Feel free to use .info() or .head() to get a better understanding of what is inside the dataframe!\n",
    "\n",
    "import pandas as pd\n",
    "import numpy as np\n",
    "import seaborn as sns\n",
    "import matplotlib.pyplot as plt\n",
    "from matplotlib import style\n",
    "\n",
    "df = pd.read_csv(\"books.csv\", error_bad_lines=False)\n",
    "\n",
    "years = []\n",
    "\n",
    "for y in df['publication_date']:\n",
    "    date = y.split(\"/\")\n",
    "    years.append(date[2])\n",
    "\n",
    "df[\"year\"] = years\n",
    "df.columns = df.columns.astype(str)\n",
    "df.head()\n"
   ]
  },
  {
   "cell_type": "markdown",
   "id": "5e44cc5e",
   "metadata": {},
   "source": [
    "With your dataframe set up, time to start creating visualizations!"
   ]
  },
  {
   "cell_type": "code",
   "execution_count": null,
   "id": "1d82c98a",
   "metadata": {},
   "outputs": [],
   "source": [
    "#Which Authors have most number of books?\n",
    "most_books = df['authors'].value_counts()[:15]\n",
    "plt.figure(figsize = (14,6))\n",
    "sns.barplot(x = most_books, y = most_books.index, palette = 'Blues_d')\n",
    "plt.title('Authors with highest number of books')\n",
    "plt.xlabel('Number of books', fontsize = 12)\n",
    "plt.show()"
   ]
  },
  {
   "cell_type": "code",
   "execution_count": null,
   "id": "6ef77bda",
   "metadata": {},
   "outputs": [],
   "source": [
    "#Books with highest number of ratings:\n",
    "most_ratings = df[['ratings_count']].set_index(df['title']).sort_values(by = 'ratings_count', ascending = False)[:15]\n",
    "plt.figure(figsize = (12,6))\n",
    "sns.barplot(x = most_ratings['ratings_count'], y = most_ratings.index, palette = 'rocket')\n",
    "plt.yticks(fontsize = 10)\n",
    "plt.xlabel('Number of ratings', fontsize = 12)\n",
    "plt.title('The books with highest number of ratings', fontsize = 16)\n",
    "plt.show()"
   ]
  },
  {
   "cell_type": "code",
   "execution_count": null,
   "id": "715009c7",
   "metadata": {},
   "outputs": [],
   "source": [
    "#Publisher with highest number of books:\n",
    "publisher = df['publisher'].value_counts().head(15)\n",
    "plt.figure(figsize = (14,6))\n",
    "graph = sns.barplot(y = publisher, x = publisher.index)\n",
    "plt.title('Publisher with highest number of books', fontsize = 14)\n",
    "plt.xlabel('Publisher', fontsize = 12)\n",
    "plt.ylabel('Count')\n",
    "for p in graph.patches:\n",
    "    height = p.get_height()\n",
    "    graph.text(p.get_x()+p.get_width()/4., height + 0.9, height)\n",
    "plt.xticks(rotation = 45, fontsize = 12)\n",
    "plt.yticks(fontsize = 12)\n",
    "plt.show()"
   ]
  },
  {
   "cell_type": "code",
   "execution_count": null,
   "id": "afdc8dcf",
   "metadata": {},
   "outputs": [],
   "source": [
    "#Average Ratings of books:\n",
    "plt.figure(figsize = (14,6))\n",
    "sns.distplot(df['average_rating'], bins = 30)\n",
    "plt.title('Average ratings of books', fontsize = 16)\n",
    "plt.xticks(fontsize = 14)\n",
    "plt.xlabel('Average Ratings', fontsize = 12)\n",
    "plt.show()"
   ]
  }
 ],
 "metadata": {
  "kernelspec": {
   "display_name": "Python 3 (ipykernel)",
   "language": "python",
   "name": "python3"
  },
  "language_info": {
   "codemirror_mode": {
    "name": "ipython",
    "version": 3
   },
   "file_extension": ".py",
   "mimetype": "text/x-python",
   "name": "python",
   "nbconvert_exporter": "python",
   "pygments_lexer": "ipython3",
   "version": "3.10.9"
  }
 },
 "nbformat": 4,
 "nbformat_minor": 5
}
